{
 "cells": [
  {
   "cell_type": "markdown",
   "metadata": {},
   "source": [
    "9. Escriba un programa que solicite por teclado una palabra y calcule el valor de la misma\n",
    "dada la siguiente tabla de valores del juego Scrabble:  \n",
    "Letra valor  \n",
    "A, E, I, O, U, L, N, R, S, T == 1;  \n",
    "D, G == 2;  \n",
    "B, C, M, P == 3;  \n",
    "F, H, V, W, Y == 4;  \n",
    "K == 5;  \n",
    "J, X == 8;  \n",
    "Q, Z == 10;  \n"
   ]
  },
  {
   "cell_type": "code",
   "execution_count": null,
   "metadata": {},
   "outputs": [],
   "source": [
    "letters_value = {\"AEIOULNRST\" : 1,\n",
    "\"DG\" : 2,\n",
    "\"BCMP\" : 3,\n",
    "\"FHVWY\" : 4,\n",
    "\"K\" : 5,\n",
    "\"JX\" : 8,\n",
    "\"QZ\" : 10}\n",
    "word = input(\"Ingrese una palabra: \")"
   ]
  },
  {
   "cell_type": "markdown",
   "metadata": {},
   "source": [
    "calculo los puntos de la palabra"
   ]
  },
  {
   "cell_type": "code",
   "execution_count": null,
   "metadata": {},
   "outputs": [],
   "source": [
    "points = 0\n",
    "for letter in word.upper():\n",
    "    for letters in letters_value:\n",
    "        if letter in letters:\n",
    "            points += letters_value[letters]\n",
    "            break"
   ]
  },
  {
   "cell_type": "markdown",
   "metadata": {},
   "source": [
    "informo la palabra y el total de puntos de la misma"
   ]
  },
  {
   "cell_type": "code",
   "execution_count": null,
   "metadata": {},
   "outputs": [],
   "source": [
    "print(f\"la palabra ---> '{word}' tiene un total de {points} puntos\")"
   ]
  }
 ],
 "metadata": {
  "kernelspec": {
   "display_name": "venv",
   "language": "python",
   "name": "python3"
  },
  "language_info": {
   "codemirror_mode": {
    "name": "ipython",
    "version": 3
   },
   "file_extension": ".py",
   "mimetype": "text/x-python",
   "name": "python",
   "nbconvert_exporter": "python",
   "pygments_lexer": "ipython3",
   "version": "3.11.7"
  }
 },
 "nbformat": 4,
 "nbformat_minor": 2
}
