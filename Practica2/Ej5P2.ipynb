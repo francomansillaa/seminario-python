{
 "cells": [
  {
   "cell_type": "markdown",
   "metadata": {},
   "source": [
    "5. Para la aceptación de un artículo en un congreso se definen las siguientes\n",
    "especificaciones que deben cumplir y recomendaciones de escritura:  \n",
    "título:  \n",
    "10 palabras como máximo  \n",
    "cada oración del resumen:  \n",
    "hasta 12 palabras: fácil de leer  \n",
    "entre 13-17 palabras: aceptable para leer  \n",
    "entre 18-25 palabras: difícil de leer  \n",
    "mas de 25 palabras: muy difícil  \n",
    "  \n",
    "Es importante destacar que los números no se consideran palabras al momento del\n",
    "análisis por su facilidad de lectura.  \n",
    "Dado un artículo en formato string, defina si cumple las especificaciones del título y\n",
    "cuántas oraciones tiene de cada categoría. El formato estándar en que recibe el string\n",
    "tiene la siguiente forma:"
   ]
  },
  {
   "cell_type": "code",
   "execution_count": null,
   "metadata": {},
   "outputs": [],
   "source": [
    "article = \"\"\"título: Experiences in Developing a Distributed Agentbased Modeling Toolkit with Python Version 3\n",
    "resumen: Distributed agent-based modeling (ABM) on high-performance\n",
    "computing resources provides the promise of capturing unprecedented\n",
    "details of large-scale complex systems. However, the specialized\n",
    "knowledge required for developing such ABMs creates barriers to wider\n",
    "adoption and utilization. Here we present our experiences in\n",
    "developing an initial implementation of Repast4Py, a Python-based\n",
    "distributed ABM toolkit. We build on our experiences in developing ABM\n",
    "toolkits, including Repast for High Performance Computing (Repast\n",
    "HPC), to identify the key elements of a useful distributed ABM\n",
    "toolkit. We leverage the Numba, NumPy, and PyTorch packages and the\n",
    "Python C-API to create a scalable modeling system that can exploit the\n",
    "largest HPC resources and emerging computing architectures.\"\"\"\n"
   ]
  },
  {
   "cell_type": "markdown",
   "metadata": {},
   "source": [
    "separo el articulo en titulo y resumen"
   ]
  },
  {
   "cell_type": "code",
   "execution_count": null,
   "metadata": {},
   "outputs": [],
   "source": [
    "#  limpio los numeros del articulo por que no tenemos que contarlos por su facil lectura\n",
    "article = article.replace(\"0\", \"\").replace(\"1\", \"\").replace(\"2\", \"\").replace(\"3\", \"\").replace(\"4\", \"\").replace(\"5\", \"\").replace(\"6\", \"\").replace(\"7\", \"\").replace(\"8\", \"\").replace(\"9\", \"\")\n",
    "titulo = article.split(\"título: \")[1].split(\"\\n\")[0]\n",
    "print(f\"título ---> {titulo}\")\n",
    "print(\"-\" * 80)\n",
    "resumen = article.split(\"resumen: \")[1]\n",
    "print(f\"resumen ---> {resumen}\")"
   ]
  },
  {
   "cell_type": "markdown",
   "metadata": {},
   "source": [
    "verifico si cumple el titulo"
   ]
  },
  {
   "cell_type": "code",
   "execution_count": null,
   "metadata": {},
   "outputs": [],
   "source": [
    "list_words = titulo.split()\n",
    "print(list_words)\n",
    "cumple_titulo = False\n",
    "if 10 >= len(list_words):\n",
    "    cumple_titulo = True"
   ]
  },
  {
   "cell_type": "markdown",
   "metadata": {},
   "source": [
    "creo una funcion para saber que dificultad tiene cada oracion"
   ]
  },
  {
   "cell_type": "code",
   "execution_count": null,
   "metadata": {},
   "outputs": [],
   "source": [
    "def dificultad_oracion(palabras_oracion):\n",
    "    if palabras_oracion <= 12:\n",
    "        categoria = \"fáciles de leer\"\n",
    "    elif 13 <= palabras_oracion <= 17:\n",
    "        categoria = \"aceptables para leer\"\n",
    "    elif 18 <= palabras_oracion <= 25:\n",
    "        categoria = \"dificil de leer\"\n",
    "    else:\n",
    "        categoria = \"muy difícil de leer\"\n",
    "    return categoria"
   ]
  },
  {
   "cell_type": "markdown",
   "metadata": {},
   "source": [
    "verifico si cumple el resumen"
   ]
  },
  {
   "cell_type": "code",
   "execution_count": null,
   "metadata": {},
   "outputs": [],
   "source": [
    "oraciones = resumen.split(\".\")\n",
    "print(oraciones)\n",
    "dificultades = {\"fáciles de leer\": 0, \"aceptables para leer\": 0, \"dificil de leer\": 0, \"muy difícil de leer\": 0}\n",
    "for oracion in oraciones:\n",
    "    palabras = oracion.split()\n",
    "    dificultades[dificultad_oracion(len(palabras))] += 1"
   ]
  },
  {
   "cell_type": "markdown",
   "metadata": {},
   "source": [
    "imprimo los resultados"
   ]
  },
  {
   "cell_type": "code",
   "execution_count": null,
   "metadata": {},
   "outputs": [],
   "source": [
    "print(f\"título ---> {cumple_titulo}\")\n",
    "for dificultad, cantidad in dificultades.items():\n",
    "    print(f\"la dificultad ---> {dificultad} tiene: {cantidad}\")"
   ]
  }
 ],
 "metadata": {
  "kernelspec": {
   "display_name": "venv",
   "language": "python",
   "name": "python3"
  },
  "language_info": {
   "codemirror_mode": {
    "name": "ipython",
    "version": 3
   },
   "file_extension": ".py",
   "mimetype": "text/x-python",
   "name": "python",
   "nbconvert_exporter": "python",
   "pygments_lexer": "ipython3",
   "version": "3.11.7"
  }
 },
 "nbformat": 4,
 "nbformat_minor": 2
}
