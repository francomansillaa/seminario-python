{
 "cells": [
  {
   "cell_type": "markdown",
   "metadata": {},
   "source": [
    "4. Dado el siguiente código que informa si la letra a se encuentra en una palabra\n",
    "ingresada por teclado:  \n",
    "Código:  \n",
    "  word = input(\"Ingresá una palabra: \")  \n",
    "  if \"a\" in word:  \n",
    "    print(\"Hay al menos una letra a.\")  \n",
    "  else:  \n",
    "    print(\"No hay letras a. \")  \n",
    "Salida:  \n",
    "    Ingresá una palabra: mundo  \n",
    "    No hay letras a.  \n",
    "\n",
    "Si ahora queremos saber si contiene la letra a y también la letra n, ¿cómo lo\n",
    "modificamos?"
   ]
  },
  {
   "cell_type": "code",
   "execution_count": null,
   "metadata": {},
   "outputs": [],
   "source": [
    "word = input(\"Ingresá una palabra: \").lower()\n",
    "if \"a\" in word and \"n\" in word:\n",
    "    print(f\"la palabra '{word}' contiene las letras A y N\")\n",
    "elif \"a\" in word:\n",
    "    print(f\"la palabra '{word}' contiene la letra A\")\n",
    "elif \"n\" in word:\n",
    "    print(f\"la palabra '{word}' contiene la letra N\")\n",
    "else:\n",
    "    print(f\"la palabra '{word}' NO contiene las letras A y N\")"
   ]
  }
 ],
 "metadata": {
  "kernelspec": {
   "display_name": "venv",
   "language": "python",
   "name": "python3"
  },
  "language_info": {
   "codemirror_mode": {
    "name": "ipython",
    "version": 3
   },
   "file_extension": ".py",
   "mimetype": "text/x-python",
   "name": "python",
   "nbconvert_exporter": "python",
   "pygments_lexer": "ipython3",
   "version": "3.11.7"
  }
 },
 "nbformat": 4,
 "nbformat_minor": 2
}
