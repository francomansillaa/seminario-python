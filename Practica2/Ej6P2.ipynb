{
 "cells": [
  {
   "cell_type": "markdown",
   "metadata": {},
   "source": [
    "#### 6. Dada una frase y un string ingresados por teclado (en ese orden), genere una lista de\n",
    "#### palabras, y sobre ella, informe la cantidad de palabras en las que se encuentra el\n",
    "#### string. No distingir entre mayúsculas y minúsculas"
   ]
  },
  {
   "cell_type": "code",
   "execution_count": null,
   "metadata": {},
   "outputs": [],
   "source": [
    "frase = input(\"ingrese una frase: \").lower()\n",
    "string = input(\"Ingresa una palabra que este en la frase: \").lower()"
   ]
  },
  {
   "cell_type": "markdown",
   "metadata": {},
   "source": [
    "creo una lista de palabras y borro caracteres especiales"
   ]
  },
  {
   "cell_type": "code",
   "execution_count": null,
   "metadata": {},
   "outputs": [],
   "source": [
    "frase = frase.replace(\",\", \"\").replace(\".\", \"\").replace(\"(\", \"\").replace(\")\", \"\").replace(\"/\", \"\").replace(\"?\", \"\").replace(\"¿\", \"\")\n",
    "list_words = frase.split()\n",
    "print(list_words)"
   ]
  },
  {
   "cell_type": "markdown",
   "metadata": {},
   "source": [
    "Informo la cantidad de veces que se repite la palabra"
   ]
  },
  {
   "cell_type": "code",
   "execution_count": null,
   "metadata": {},
   "outputs": [],
   "source": [
    "cant_words = 0\n",
    "for word in list_words:\n",
    "    if word == string:\n",
    "        cant_words += 1\n",
    "print(f\"La cantidad de veces que '{string}' se encuentra en la frase es {cant_words} \")"
   ]
  }
 ],
 "metadata": {
  "kernelspec": {
   "display_name": "venv",
   "language": "python",
   "name": "python3"
  },
  "language_info": {
   "codemirror_mode": {
    "name": "ipython",
    "version": 3
   },
   "file_extension": ".py",
   "mimetype": "text/x-python",
   "name": "python",
   "nbconvert_exporter": "python",
   "pygments_lexer": "ipython3",
   "version": "3.11.7"
  }
 },
 "nbformat": 4,
 "nbformat_minor": 2
}
