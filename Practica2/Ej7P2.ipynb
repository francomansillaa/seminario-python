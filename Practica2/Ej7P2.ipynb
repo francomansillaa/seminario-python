{
 "cells": [
  {
   "cell_type": "markdown",
   "metadata": {},
   "source": [
    "7. Dada una frase contar mayúsculas, minúsculas, caracteres no letras y la cantidad de\n",
    "palabras sin distinguir entre mayúsculas y minúsculas.\n"
   ]
  },
  {
   "cell_type": "code",
   "execution_count": null,
   "metadata": {},
   "outputs": [],
   "source": [
    "text = \"\"\" La brecha salarial alcanzó el 27,7%: las mujeres ocupadas\n",
    "debieron trabajar 8 días y 10 horas más que los varones ocupados para\n",
    "ganar lo mismo que ellos en un mes. \"\"\""
   ]
  },
  {
   "cell_type": "markdown",
   "metadata": {},
   "source": [
    "divido la frase en palabras"
   ]
  },
  {
   "cell_type": "code",
   "execution_count": null,
   "metadata": {},
   "outputs": [],
   "source": [
    "list = text.split()\n",
    "print(f\"la lista ---> {list}\")"
   ]
  },
  {
   "cell_type": "markdown",
   "metadata": {},
   "source": [
    "importo String"
   ]
  },
  {
   "cell_type": "code",
   "execution_count": null,
   "metadata": {},
   "outputs": [],
   "source": [
    "import string"
   ]
  },
  {
   "cell_type": "markdown",
   "metadata": {},
   "source": [
    "funcion para saber de que tipo es la letra"
   ]
  },
  {
   "cell_type": "code",
   "execution_count": null,
   "metadata": {},
   "outputs": [],
   "source": [
    "def soy(letter):\n",
    "    if letter in string.ascii_uppercase:\n",
    "        tipo = \"mayúsculas\"\n",
    "    elif letter in string.ascii_lowercase:\n",
    "        tipo = \"minúsculas\"\n",
    "    else:\n",
    "        tipo = \"caracteres no letras\"\n",
    "    return tipo"
   ]
  },
  {
   "cell_type": "markdown",
   "metadata": {},
   "source": [
    "cuento los caracteres y las palabras"
   ]
  },
  {
   "cell_type": "code",
   "execution_count": null,
   "metadata": {},
   "outputs": [],
   "source": [
    "caracter = {\"mayúsculas\" : 0, \"minúsculas\" : 0, \"caracteres no letras\" : 0}\n",
    "for word in list:\n",
    "    for letter in word:\n",
    "        caracter[soy(letter)] += 1"
   ]
  },
  {
   "cell_type": "markdown",
   "metadata": {},
   "source": [
    "informo la cantidad de palabras y la cantidad de caracteres"
   ]
  },
  {
   "cell_type": "code",
   "execution_count": null,
   "metadata": {},
   "outputs": [],
   "source": [
    "print(f\"la cantidad de palabras son ---> {len(list)}\")\n",
    "print(\"-\" * 80)\n",
    "for tipo, cantidad in caracter.items():\n",
    "    print(f\"la candidad de ---> {tipo} son: {cantidad}\")"
   ]
  }
 ],
 "metadata": {
  "kernelspec": {
   "display_name": "venv",
   "language": "python",
   "name": "python3"
  },
  "language_info": {
   "codemirror_mode": {
    "name": "ipython",
    "version": 3
   },
   "file_extension": ".py",
   "mimetype": "text/x-python",
   "name": "python",
   "nbconvert_exporter": "python",
   "pygments_lexer": "ipython3",
   "version": "3.11.7"
  }
 },
 "nbformat": 4,
 "nbformat_minor": 2
}
