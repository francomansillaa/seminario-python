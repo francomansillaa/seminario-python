{
 "cells": [
  {
   "cell_type": "markdown",
   "metadata": {},
   "source": [
    "#### 3. Dado el siguiente texto guardado en la varible jupyter_info, solicite por teclado una\n",
    "#### letra e imprima las palabras que contengan dicha letra. En caso que no se haya\n",
    "#### ingresado un letra, indique el error. Ver: módulo string\n",
    "\n",
    "##### jupyter_info = \"\"\" JupyterLab is a web-based interactive development\n",
    "##### environment for Jupyter notebooks, code, and data. JupyterLab is\n",
    "##### flexible: configure and arrange the user interface to support a wide\n",
    "##### range of workflows in data science, scientific computing, and machine\n",
    "##### learning. JupyterLab is extensible and modular: write plugins that add\n",
    "##### new components and integrate with existing ones. \"\"\"\n"
   ]
  },
  {
   "cell_type": "code",
   "execution_count": null,
   "metadata": {},
   "outputs": [],
   "source": [
    "import string\n",
    "\n",
    "jupyter_info = \"\"\" JupyterLab is a web-based interactive development\n",
    "environment for Jupyter notebooks, code, and data. JupyterLab is\n",
    "flexible: configure and arrange the user interface to support a wide\n",
    "range of workflows in data science, scientific computing, and machine\n",
    "learning. JupyterLab is extensible and modular: write plugins that add\n",
    "new components and integrate with existing ones. \"\"\""
   ]
  },
  {
   "cell_type": "markdown",
   "metadata": {},
   "source": [
    "#### separo por palabras en una lista y solicito por teclado una letra"
   ]
  },
  {
   "cell_type": "code",
   "execution_count": null,
   "metadata": {},
   "outputs": [],
   "source": [
    "list = jupyter_info.split()\n",
    "print(list)\n",
    "letter = input(\"ingrese una letra: \").lower()"
   ]
  },
  {
   "cell_type": "markdown",
   "metadata": {},
   "source": [
    "### ingreso todas las letras importando String y recorro la lista imprimiendo las palabras que contengan la letra ingresa por el usuario"
   ]
  },
  {
   "cell_type": "code",
   "execution_count": null,
   "metadata": {},
   "outputs": [],
   "source": [
    "letters = string.ascii_lowercase\n",
    "while True:\n",
    "    if letter in letters:\n",
    "        print(f\"la letra ingresada es {letter} y esta en las siguientes palabras: \")\n",
    "        for word in list:\n",
    "            if letter in word.lower():\n",
    "                print(word, end=\"-\")\n",
    "        break\n",
    "    else:\n",
    "        letter = input(\"caracter invalido ingrese una letra por favor: \").lower()"
   ]
  }
 ],
 "metadata": {
  "kernelspec": {
   "display_name": "venv",
   "language": "python",
   "name": "python3"
  },
  "language_info": {
   "codemirror_mode": {
    "name": "ipython",
    "version": 3
   },
   "file_extension": ".py",
   "mimetype": "text/x-python",
   "name": "python",
   "nbconvert_exporter": "python",
   "pygments_lexer": "ipython3",
   "version": "3.11.7"
  }
 },
 "nbformat": 4,
 "nbformat_minor": 2
}
